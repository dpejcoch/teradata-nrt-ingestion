{
 "cells": [
  {
   "cell_type": "markdown",
   "id": "d93841a1-35ec-43f2-9733-0088a37c24ca",
   "metadata": {},
   "source": [
    "# Train the logistic regression model"
   ]
  },
  {
   "cell_type": "code",
   "execution_count": 2,
   "id": "4a6cde9f-6312-4299-9503-51a6c7497941",
   "metadata": {},
   "outputs": [],
   "source": [
    "import numpy\n",
    "import pandas as pd"
   ]
  },
  {
   "cell_type": "markdown",
   "id": "eb638179-3980-46c6-ad00-2f9d984ab272",
   "metadata": {},
   "source": [
    "## Import Iris data"
   ]
  },
  {
   "cell_type": "code",
   "execution_count": 3,
   "id": "d29a8282-00ff-4c89-bd72-a9bb670a5aa1",
   "metadata": {},
   "outputs": [],
   "source": [
    "from sklearn.datasets import load_iris\n",
    "from sklearn.model_selection import train_test_split"
   ]
  },
  {
   "cell_type": "code",
   "execution_count": 4,
   "id": "e3956614-a302-4a1f-9940-2aafadd3d296",
   "metadata": {},
   "outputs": [],
   "source": [
    "iris = load_iris()\n",
    "X, y = iris.data, iris.target\n",
    "X_train, X_test, y_train, y_test = train_test_split(X, y)"
   ]
  },
  {
   "cell_type": "code",
   "execution_count": 5,
   "id": "85531ab7-887d-4dbc-8663-2f3074122657",
   "metadata": {},
   "outputs": [
    {
     "data": {
      "text/plain": [
       "array([5.1, 3.5, 1.4, 0.2])"
      ]
     },
     "execution_count": 5,
     "metadata": {},
     "output_type": "execute_result"
    }
   ],
   "source": [
    "X[0]"
   ]
  },
  {
   "cell_type": "markdown",
   "id": "9c4a8b74-a3f5-417c-8eb2-e9d82648a582",
   "metadata": {},
   "source": [
    "## Train the model"
   ]
  },
  {
   "cell_type": "code",
   "execution_count": 6,
   "id": "5d6fc4cc-a8a6-4a1f-b1c9-d5d788162f87",
   "metadata": {},
   "outputs": [],
   "source": [
    "from sklearn.linear_model import LogisticRegression"
   ]
  },
  {
   "cell_type": "code",
   "execution_count": 7,
   "id": "d93796b9-5102-4f28-b7fd-de9a79d6aeb1",
   "metadata": {},
   "outputs": [
    {
     "data": {
      "text/html": [
       "<style>#sk-container-id-1 {color: black;background-color: white;}#sk-container-id-1 pre{padding: 0;}#sk-container-id-1 div.sk-toggleable {background-color: white;}#sk-container-id-1 label.sk-toggleable__label {cursor: pointer;display: block;width: 100%;margin-bottom: 0;padding: 0.3em;box-sizing: border-box;text-align: center;}#sk-container-id-1 label.sk-toggleable__label-arrow:before {content: \"▸\";float: left;margin-right: 0.25em;color: #696969;}#sk-container-id-1 label.sk-toggleable__label-arrow:hover:before {color: black;}#sk-container-id-1 div.sk-estimator:hover label.sk-toggleable__label-arrow:before {color: black;}#sk-container-id-1 div.sk-toggleable__content {max-height: 0;max-width: 0;overflow: hidden;text-align: left;background-color: #f0f8ff;}#sk-container-id-1 div.sk-toggleable__content pre {margin: 0.2em;color: black;border-radius: 0.25em;background-color: #f0f8ff;}#sk-container-id-1 input.sk-toggleable__control:checked~div.sk-toggleable__content {max-height: 200px;max-width: 100%;overflow: auto;}#sk-container-id-1 input.sk-toggleable__control:checked~label.sk-toggleable__label-arrow:before {content: \"▾\";}#sk-container-id-1 div.sk-estimator input.sk-toggleable__control:checked~label.sk-toggleable__label {background-color: #d4ebff;}#sk-container-id-1 div.sk-label input.sk-toggleable__control:checked~label.sk-toggleable__label {background-color: #d4ebff;}#sk-container-id-1 input.sk-hidden--visually {border: 0;clip: rect(1px 1px 1px 1px);clip: rect(1px, 1px, 1px, 1px);height: 1px;margin: -1px;overflow: hidden;padding: 0;position: absolute;width: 1px;}#sk-container-id-1 div.sk-estimator {font-family: monospace;background-color: #f0f8ff;border: 1px dotted black;border-radius: 0.25em;box-sizing: border-box;margin-bottom: 0.5em;}#sk-container-id-1 div.sk-estimator:hover {background-color: #d4ebff;}#sk-container-id-1 div.sk-parallel-item::after {content: \"\";width: 100%;border-bottom: 1px solid gray;flex-grow: 1;}#sk-container-id-1 div.sk-label:hover label.sk-toggleable__label {background-color: #d4ebff;}#sk-container-id-1 div.sk-serial::before {content: \"\";position: absolute;border-left: 1px solid gray;box-sizing: border-box;top: 0;bottom: 0;left: 50%;z-index: 0;}#sk-container-id-1 div.sk-serial {display: flex;flex-direction: column;align-items: center;background-color: white;padding-right: 0.2em;padding-left: 0.2em;position: relative;}#sk-container-id-1 div.sk-item {position: relative;z-index: 1;}#sk-container-id-1 div.sk-parallel {display: flex;align-items: stretch;justify-content: center;background-color: white;position: relative;}#sk-container-id-1 div.sk-item::before, #sk-container-id-1 div.sk-parallel-item::before {content: \"\";position: absolute;border-left: 1px solid gray;box-sizing: border-box;top: 0;bottom: 0;left: 50%;z-index: -1;}#sk-container-id-1 div.sk-parallel-item {display: flex;flex-direction: column;z-index: 1;position: relative;background-color: white;}#sk-container-id-1 div.sk-parallel-item:first-child::after {align-self: flex-end;width: 50%;}#sk-container-id-1 div.sk-parallel-item:last-child::after {align-self: flex-start;width: 50%;}#sk-container-id-1 div.sk-parallel-item:only-child::after {width: 0;}#sk-container-id-1 div.sk-dashed-wrapped {border: 1px dashed gray;margin: 0 0.4em 0.5em 0.4em;box-sizing: border-box;padding-bottom: 0.4em;background-color: white;}#sk-container-id-1 div.sk-label label {font-family: monospace;font-weight: bold;display: inline-block;line-height: 1.2em;}#sk-container-id-1 div.sk-label-container {text-align: center;}#sk-container-id-1 div.sk-container {/* jupyter's `normalize.less` sets `[hidden] { display: none; }` but bootstrap.min.css set `[hidden] { display: none !important; }` so we also need the `!important` here to be able to override the default hidden behavior on the sphinx rendered scikit-learn.org. See: https://github.com/scikit-learn/scikit-learn/issues/21755 */display: inline-block !important;position: relative;}#sk-container-id-1 div.sk-text-repr-fallback {display: none;}</style><div id=\"sk-container-id-1\" class=\"sk-top-container\"><div class=\"sk-text-repr-fallback\"><pre>LogisticRegression()</pre><b>In a Jupyter environment, please rerun this cell to show the HTML representation or trust the notebook. <br />On GitHub, the HTML representation is unable to render, please try loading this page with nbviewer.org.</b></div><div class=\"sk-container\" hidden><div class=\"sk-item\"><div class=\"sk-estimator sk-toggleable\"><input class=\"sk-toggleable__control sk-hidden--visually\" id=\"sk-estimator-id-1\" type=\"checkbox\" checked><label for=\"sk-estimator-id-1\" class=\"sk-toggleable__label sk-toggleable__label-arrow\">LogisticRegression</label><div class=\"sk-toggleable__content\"><pre>LogisticRegression()</pre></div></div></div></div></div>"
      ],
      "text/plain": [
       "LogisticRegression()"
      ]
     },
     "execution_count": 7,
     "metadata": {},
     "output_type": "execute_result"
    }
   ],
   "source": [
    "clr = LogisticRegression()\n",
    "clr.fit(X_train, y_train)"
   ]
  },
  {
   "cell_type": "markdown",
   "id": "9971e35e-6172-4c82-b30f-c0c4dab2ad60",
   "metadata": {},
   "source": [
    "## Convert model to onnx"
   ]
  },
  {
   "cell_type": "markdown",
   "id": "607b19cb-bca1-430a-9390-eebd76ae97ec",
   "metadata": {},
   "source": [
    "Details about conversion of sklearn models to onnx can be found here: https://onnx.ai/sklearn-onnx/introduction.html"
   ]
  },
  {
   "cell_type": "code",
   "execution_count": 7,
   "id": "b2cffa3d-9fd5-45b0-aa8b-430e9894a3b6",
   "metadata": {},
   "outputs": [],
   "source": [
    "from skl2onnx import convert_sklearn\n",
    "from skl2onnx.common.data_types import FloatTensorType"
   ]
  },
  {
   "cell_type": "code",
   "execution_count": 8,
   "id": "5c070804-cce6-41ce-ad4f-68c4fc23c890",
   "metadata": {},
   "outputs": [],
   "source": [
    "initial_type = [('float_input', FloatTensorType([None, 4]))]\n",
    "onx = convert_sklearn(clr, initial_types=initial_type)\n",
    "with open(\"logreg_iris.onnx\", \"wb\") as f:\n",
    "    f.write(onx.SerializeToString())"
   ]
  },
  {
   "cell_type": "code",
   "execution_count": 9,
   "id": "be9f87e9-6a4d-420f-b200-b73268d532ec",
   "metadata": {},
   "outputs": [],
   "source": [
    "import onnxruntime as rt"
   ]
  },
  {
   "cell_type": "code",
   "execution_count": 12,
   "id": "dea2ab1e-e893-444e-9ffa-e6505d156dcf",
   "metadata": {},
   "outputs": [],
   "source": [
    "sess = rt.InferenceSession(\"logreg_iris.onnx\")\n",
    "input_name = sess.get_inputs()[0].name\n",
    "label_name = sess.get_outputs()[0].name\n",
    "\n",
    "pred_onx = sess.run([label_name], {input_name: X_test.astype(numpy.float32)})[0]"
   ]
  },
  {
   "cell_type": "code",
   "execution_count": 14,
   "id": "9b0fe03a-8209-45f4-9d71-3a1f2ba1fd4d",
   "metadata": {},
   "outputs": [
    {
     "data": {
      "text/plain": [
       "1"
      ]
     },
     "execution_count": 14,
     "metadata": {},
     "output_type": "execute_result"
    }
   ],
   "source": [
    "pred_onx[0]"
   ]
  },
  {
   "cell_type": "code",
   "execution_count": 16,
   "id": "613a79de-98f7-46fd-9e2b-e7a93a4b6235",
   "metadata": {},
   "outputs": [],
   "source": [
    "import onnx"
   ]
  },
  {
   "cell_type": "code",
   "execution_count": 20,
   "id": "6db2e0ec-c84f-40e6-aeae-7574b875dea5",
   "metadata": {},
   "outputs": [],
   "source": [
    "onnx_model = onnx.load(\"logreg_iris.onnx\")"
   ]
  },
  {
   "cell_type": "code",
   "execution_count": 21,
   "id": "1a8aa2e3-ff15-44cc-84b9-8d1ee879b11d",
   "metadata": {},
   "outputs": [
    {
     "data": {
      "text/plain": [
       "[name: \"output_label\"\n",
       "type {\n",
       "  tensor_type {\n",
       "    elem_type: 7\n",
       "    shape {\n",
       "      dim {\n",
       "      }\n",
       "    }\n",
       "  }\n",
       "}\n",
       ", name: \"output_probability\"\n",
       "type {\n",
       "  sequence_type {\n",
       "    elem_type {\n",
       "      map_type {\n",
       "        key_type: 7\n",
       "        value_type {\n",
       "          tensor_type {\n",
       "            elem_type: 1\n",
       "          }\n",
       "        }\n",
       "      }\n",
       "    }\n",
       "  }\n",
       "}\n",
       "]"
      ]
     },
     "execution_count": 21,
     "metadata": {},
     "output_type": "execute_result"
    }
   ],
   "source": [
    "onnx_model.graph.output"
   ]
  },
  {
   "cell_type": "code",
   "execution_count": 22,
   "id": "5829c7e4-7989-4cb1-8c6f-98afb37bc33f",
   "metadata": {},
   "outputs": [
    {
     "data": {
      "text/plain": [
       "[name: \"float_input\"\n",
       "type {\n",
       "  tensor_type {\n",
       "    elem_type: 1\n",
       "    shape {\n",
       "      dim {\n",
       "      }\n",
       "      dim {\n",
       "        dim_value: 4\n",
       "      }\n",
       "    }\n",
       "  }\n",
       "}\n",
       "]"
      ]
     },
     "execution_count": 22,
     "metadata": {},
     "output_type": "execute_result"
    }
   ],
   "source": [
    "onnx_model.graph.input"
   ]
  },
  {
   "cell_type": "markdown",
   "id": "b225e220-019a-4af5-9ee7-75f000a00d79",
   "metadata": {},
   "source": [
    "## Load onnx model to Teradata"
   ]
  },
  {
   "cell_type": "code",
   "execution_count": 23,
   "id": "362a2cc7-168e-4cc4-bdc4-71ef8b147eb7",
   "metadata": {},
   "outputs": [],
   "source": [
    "import teradataml as tdml"
   ]
  },
  {
   "cell_type": "code",
   "execution_count": 24,
   "id": "ba21ee47-4e7a-420e-8bdb-d050c4e8b101",
   "metadata": {},
   "outputs": [],
   "source": [
    "import json"
   ]
  },
  {
   "cell_type": "code",
   "execution_count": 25,
   "id": "123bdfb9-42d0-401a-8663-c35aa8840f76",
   "metadata": {},
   "outputs": [
    {
     "name": "stderr",
     "output_type": "stream",
     "text": [
      "/opt/conda/lib/python3.9/site-packages/teradataml/context/context.py:481: TeradataMlRuntimeWarning: Warning: Password is URL encoded.\n",
      "  warnings.warn(\"Warning: Password is URL encoded.\", category=TeradataMlRuntimeWarning)\n"
     ]
    }
   ],
   "source": [
    "with open('teradata.json') as json_file:\n",
    "    td_conf = json.load(json_file)\n",
    "\n",
    "tdml.create_context(host=td_conf['host'],\n",
    "                username=td_conf['user'],\n",
    "                password=td_conf['password'],\n",
    "                database=td_conf['schema'])\n",
    "conn = tdml.get_connection()"
   ]
  },
  {
   "cell_type": "code",
   "execution_count": 26,
   "id": "997d686c-081a-4c11-a524-a312c3edce55",
   "metadata": {},
   "outputs": [
    {
     "name": "stdout",
     "output_type": "stream",
     "text": [
      "Model is saved.\n"
     ]
    }
   ],
   "source": [
    "tdml.save_byom('logreg_iris_v1', \"logreg_iris.onnx\",'scikit_models')"
   ]
  },
  {
   "cell_type": "raw",
   "id": "c8a10979-caac-4218-969b-394ab6f06c47",
   "metadata": {},
   "source": [
    "SELECT * FROM mldb.onnxpredict(\n",
    "ON (\n",
    "  select\n",
    "  5.1 as float_input_0,\n",
    "  3.5 as float_input_1,\n",
    "  1.4 as float_input_2,\n",
    "  0.2 as float_input_3 \n",
    "  ) AS InputTable \n",
    "ON (SELECT * FROM scikit_models WHERE model_id = 'logreg_iris_v1')  AS ModelTable  DIMENSION\n",
    "  USING\n",
    "    Accumulate ('*') \n",
    ") as whatever;"
   ]
  },
  {
   "cell_type": "markdown",
   "id": "4c720cc5-cc81-45a2-8d7e-b88395709651",
   "metadata": {},
   "source": [
    "## Export Iris validation set for scoring"
   ]
  },
  {
   "cell_type": "code",
   "execution_count": 38,
   "id": "18ae1182-ef51-4a28-a936-6600600478d8",
   "metadata": {},
   "outputs": [],
   "source": [
    "output = pd.DataFrame(X_test, columns = ['float_input_0','float_input_1','float_input_2','float_input_3'])"
   ]
  },
  {
   "cell_type": "code",
   "execution_count": 41,
   "id": "36912db8-9edf-4a32-8c10-df694732e48f",
   "metadata": {},
   "outputs": [],
   "source": [
    "output.to_csv('Iris_features.csv',index=False, header=False, lineterminator='\\n')"
   ]
  },
  {
   "cell_type": "code",
   "execution_count": 43,
   "id": "60b86c0a-1377-4a1c-ba1b-fb976ad727c8",
   "metadata": {},
   "outputs": [
    {
     "name": "stdout",
     "output_type": "stream",
     "text": [
      "5.7,2.5,5.0,2.0\n",
      "5.2,4.1,1.5,0.1\n",
      "6.1,2.8,4.0,1.3\n",
      "4.5,2.3,1.3,0.3\n",
      "6.5,2.8,4.6,1.5\n",
      "5.0,3.0,1.6,0.2\n",
      "6.4,2.8,5.6,2.2\n",
      "5.0,3.4,1.6,0.4\n",
      "5.6,2.9,3.6,1.3\n",
      "6.9,3.1,5.4,2.1\n"
     ]
    }
   ],
   "source": [
    "!head Iris_features.csv"
   ]
  }
 ],
 "metadata": {
  "kernelspec": {
   "display_name": "Python 3 (ipykernel)",
   "language": "python",
   "name": "python3"
  },
  "language_info": {
   "codemirror_mode": {
    "name": "ipython",
    "version": 3
   },
   "file_extension": ".py",
   "mimetype": "text/x-python",
   "name": "python",
   "nbconvert_exporter": "python",
   "pygments_lexer": "ipython3",
   "version": "3.9.13"
  }
 },
 "nbformat": 4,
 "nbformat_minor": 5
}
