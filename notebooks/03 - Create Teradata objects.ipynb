{
 "cells": [
  {
   "cell_type": "markdown",
   "id": "40c86dc7-32d7-49f1-bf6a-0b32e48bb004",
   "metadata": {},
   "source": [
    "# Create Teradata objects"
   ]
  },
  {
   "cell_type": "markdown",
   "id": "2bd95b1d-0c5c-4e31-896f-78013fbbf0c1",
   "metadata": {},
   "source": [
    "## Connect to Teradata"
   ]
  },
  {
   "cell_type": "code",
   "execution_count": 2,
   "id": "228ef599-0613-47d5-b378-1d0bc54650ef",
   "metadata": {
    "tags": []
   },
   "outputs": [],
   "source": [
    "import teradataml as tdml"
   ]
  },
  {
   "cell_type": "code",
   "execution_count": 3,
   "id": "a67374de-e76c-4059-9e1d-62ff79d25bfa",
   "metadata": {
    "tags": []
   },
   "outputs": [],
   "source": [
    "import json"
   ]
  },
  {
   "cell_type": "code",
   "execution_count": 4,
   "id": "be3cce30-47a2-42c9-abff-cfd410f4eae8",
   "metadata": {},
   "outputs": [
    {
     "name": "stderr",
     "output_type": "stream",
     "text": [
      "/opt/conda/lib/python3.9/site-packages/teradataml/context/context.py:481: TeradataMlRuntimeWarning: Warning: Password is URL encoded.\n",
      "  warnings.warn(\"Warning: Password is URL encoded.\", category=TeradataMlRuntimeWarning)\n"
     ]
    }
   ],
   "source": [
    "with open('teradata.json') as json_file:\n",
    "    td_conf = json.load(json_file)\n",
    "\n",
    "tdml.create_context(host=td_conf['host'],\n",
    "                username=td_conf['user'],\n",
    "                password=td_conf['password'],\n",
    "                database=td_conf['schema'])\n",
    "conn = tdml.get_connection()"
   ]
  },
  {
   "cell_type": "markdown",
   "id": "4b531b5f-b93c-4b1e-9a06-fcbe74bb1f38",
   "metadata": {},
   "source": [
    "## Create target tables"
   ]
  },
  {
   "cell_type": "markdown",
   "id": "ce23475f-9435-4546-a4da-7f1fca3a24b2",
   "metadata": {},
   "source": [
    "### Drop table if exists"
   ]
  },
  {
   "cell_type": "code",
   "execution_count": 11,
   "id": "c574389d-aa18-432f-bf89-5485e0993329",
   "metadata": {},
   "outputs": [
    {
     "data": {
      "text/plain": [
       "<sqlalchemy.engine.cursor.LegacyCursorResult at 0x7f186ab4fdc0>"
      ]
     },
     "execution_count": 11,
     "metadata": {},
     "output_type": "execute_result"
    }
   ],
   "source": [
    "tdml.get_connection().execute(\n",
    "\"\"\"\n",
    "DROP TABLE STG_IRIS_EV;\n",
    "\"\"\"\n",
    ")"
   ]
  },
  {
   "cell_type": "markdown",
   "id": "31c320a8-85e0-4c23-a825-9f66284f986f",
   "metadata": {},
   "source": [
    "### Create target table"
   ]
  },
  {
   "cell_type": "code",
   "execution_count": 12,
   "id": "fba294e1-0764-462e-be3c-92d87ac37107",
   "metadata": {},
   "outputs": [
    {
     "data": {
      "text/plain": [
       "<sqlalchemy.engine.cursor.LegacyCursorResult at 0x7f186aa8de50>"
      ]
     },
     "execution_count": 12,
     "metadata": {},
     "output_type": "execute_result"
    }
   ],
   "source": [
    "tdml.get_connection().execute(\n",
    "\"\"\"\n",
    "CREATE MULTISET TABLE STG_IRIS_EV ,FALLBACK ,\n",
    "     NO BEFORE JOURNAL,\n",
    "     NO AFTER JOURNAL,\n",
    "     CHECKSUM = DEFAULT,\n",
    "     DEFAULT MERGEBLOCKRATIO,\n",
    "     MAP = TD_MAP1\n",
    "     (\n",
    "      float_input_0 VARCHAR(10),\n",
    "      float_input_1 VARCHAR(10),\n",
    "      float_input_2 VARCHAR(10),\n",
    "      float_input_3 VARCHAR(10),\n",
    "      ACQ_DTTM TIMESTAMP(0))\n",
    "NO PRIMARY INDEX ;\n",
    "\"\"\"\n",
    ")"
   ]
  }
 ],
 "metadata": {
  "kernelspec": {
   "display_name": "Python 3 (ipykernel)",
   "language": "python",
   "name": "python3"
  },
  "language_info": {
   "codemirror_mode": {
    "name": "ipython",
    "version": 3
   },
   "file_extension": ".py",
   "mimetype": "text/x-python",
   "name": "python",
   "nbconvert_exporter": "python",
   "pygments_lexer": "ipython3",
   "version": "3.9.7"
  }
 },
 "nbformat": 4,
 "nbformat_minor": 5
}
