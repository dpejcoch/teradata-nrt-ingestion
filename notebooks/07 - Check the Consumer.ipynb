{
 "cells": [
  {
   "cell_type": "markdown",
   "id": "6db45f7a-879c-47b0-b137-9c0a57f20881",
   "metadata": {},
   "source": [
    "# Check data in Teradata"
   ]
  },
  {
   "cell_type": "markdown",
   "id": "6bf560ef-8425-4bc8-8f0a-ca624687bb8c",
   "metadata": {},
   "source": [
    "## Connect to Teradata"
   ]
  },
  {
   "cell_type": "code",
   "execution_count": 5,
   "id": "9dc9c6e9-3175-4287-9104-9fafe7edd440",
   "metadata": {},
   "outputs": [],
   "source": [
    "import teradataml as tdml\n",
    "from teradataml import DataFrame"
   ]
  },
  {
   "cell_type": "code",
   "execution_count": 2,
   "id": "daef2e4c-1316-4fbd-b70c-85aec6f77219",
   "metadata": {},
   "outputs": [],
   "source": [
    "import json"
   ]
  },
  {
   "cell_type": "code",
   "execution_count": 3,
   "id": "f99d6dc5-c4d7-4d8b-b3e4-56db032c63bf",
   "metadata": {},
   "outputs": [
    {
     "name": "stderr",
     "output_type": "stream",
     "text": [
      "/opt/conda/lib/python3.9/site-packages/teradataml/context/context.py:481: TeradataMlRuntimeWarning: Warning: Password is URL encoded.\n",
      "  warnings.warn(\"Warning: Password is URL encoded.\", category=TeradataMlRuntimeWarning)\n"
     ]
    }
   ],
   "source": [
    "with open('teradata.json') as json_file:\n",
    "    td_conf = json.load(json_file)\n",
    "\n",
    "tdml.create_context(host=td_conf['host'],\n",
    "                username=td_conf['user'],\n",
    "                password=td_conf['password'],\n",
    "                database=td_conf['schema'])\n",
    "conn = tdml.get_connection()"
   ]
  },
  {
   "cell_type": "markdown",
   "id": "4cb05193-e1d1-48a1-8320-3ac188788141",
   "metadata": {},
   "source": [
    "## Show ingested data"
   ]
  },
  {
   "cell_type": "code",
   "execution_count": 12,
   "id": "0bed9105-f06b-412a-8715-6f7db61805f9",
   "metadata": {},
   "outputs": [
    {
     "data": {
      "text/plain": [
       "(38, 5)"
      ]
     },
     "execution_count": 12,
     "metadata": {},
     "output_type": "execute_result"
    }
   ],
   "source": [
    "df = DataFrame.from_query(\"select * from STG_IRIS_EV\")\n",
    "df.shape"
   ]
  },
  {
   "cell_type": "code",
   "execution_count": 13,
   "id": "d1a74243-7fb2-407e-9bfa-508eaac5f712",
   "metadata": {},
   "outputs": [
    {
     "data": {
      "text/html": [
       "<style type=\"text/css\">\n",
       "\ttable {border:ridge 5px;}\n",
       "\ttable td {border:inset 1px;}\n",
       "\ttable tr#HeaderRow {background-color:grey; color:white;}</style>\n",
       "<html><table>\n",
       "\t<tr id=\"HeaderRow\">\n",
       "\t\t<th>float_input_0</th>\n",
       "\t\t<th>float_input_1</th>\n",
       "\t\t<th>float_input_2</th>\n",
       "\t\t<th>float_input_3</th>\n",
       "\t\t<th>ACQ_DTTM</th>\n",
       "\t</tr>\n",
       "\t<tr>\n",
       "\t\t<td>4.8</td>\n",
       "\t\t<td>3.4</td>\n",
       "\t\t<td>1.6</td>\n",
       "\t\t<td>0.2</td>\n",
       "\t\t<td>2023-03-14 13:33:10</td>\n",
       "\t</tr>\n",
       "\t<tr>\n",
       "\t\t<td>4.9</td>\n",
       "\t\t<td>3.1</td>\n",
       "\t\t<td>1.5</td>\n",
       "\t\t<td>0.2</td>\n",
       "\t\t<td>2023-03-14 13:33:10</td>\n",
       "\t</tr>\n",
       "\t<tr>\n",
       "\t\t<td>5.0</td>\n",
       "\t\t<td>2.0</td>\n",
       "\t\t<td>3.5</td>\n",
       "\t\t<td>1.0</td>\n",
       "\t\t<td>2023-03-14 13:33:10</td>\n",
       "\t</tr>\n",
       "\t<tr>\n",
       "\t\t<td>5.0</td>\n",
       "\t\t<td>3.4</td>\n",
       "\t\t<td>1.6</td>\n",
       "\t\t<td>0.4</td>\n",
       "\t\t<td>2023-03-14 13:33:10</td>\n",
       "\t</tr>\n",
       "\t<tr>\n",
       "\t\t<td>5.0</td>\n",
       "\t\t<td>3.0</td>\n",
       "\t\t<td>1.6</td>\n",
       "\t\t<td>0.2</td>\n",
       "\t\t<td>2023-03-14 13:33:10</td>\n",
       "\t</tr>\n",
       "\t<tr>\n",
       "\t\t<td>5.1</td>\n",
       "\t\t<td>3.8</td>\n",
       "\t\t<td>1.5</td>\n",
       "\t\t<td>0.3</td>\n",
       "\t\t<td>2023-03-14 13:33:10</td>\n",
       "\t</tr>\n",
       "\t<tr>\n",
       "\t\t<td>5.0</td>\n",
       "\t\t<td>2.3</td>\n",
       "\t\t<td>3.3</td>\n",
       "\t\t<td>1.0</td>\n",
       "\t\t<td>2023-03-14 13:33:10</td>\n",
       "\t</tr>\n",
       "\t<tr>\n",
       "\t\t<td>4.9</td>\n",
       "\t\t<td>3.1</td>\n",
       "\t\t<td>1.5</td>\n",
       "\t\t<td>0.1</td>\n",
       "\t\t<td>2023-03-14 13:33:10</td>\n",
       "\t</tr>\n",
       "\t<tr>\n",
       "\t\t<td>4.8</td>\n",
       "\t\t<td>3.0</td>\n",
       "\t\t<td>1.4</td>\n",
       "\t\t<td>0.3</td>\n",
       "\t\t<td>2023-03-14 13:33:10</td>\n",
       "\t</tr>\n",
       "\t<tr>\n",
       "\t\t<td>4.5</td>\n",
       "\t\t<td>2.3</td>\n",
       "\t\t<td>1.3</td>\n",
       "\t\t<td>0.3</td>\n",
       "\t\t<td>2023-03-14 13:33:10</td>\n",
       "\t</tr>\n",
       "</table></html>"
      ],
      "text/plain": [
       "  float_input_0 float_input_1 float_input_2 float_input_3             ACQ_DTTM\n",
       "0           4.8           3.4           1.6           0.2  2023-03-14 13:33:10\n",
       "1           4.9           3.1           1.5           0.2  2023-03-14 13:33:10\n",
       "2           5.0           2.0           3.5           1.0  2023-03-14 13:33:10\n",
       "3           5.0           3.4           1.6           0.4  2023-03-14 13:33:10\n",
       "4           5.0           3.0           1.6           0.2  2023-03-14 13:33:10\n",
       "5           5.1           3.8           1.5           0.3  2023-03-14 13:33:10\n",
       "6           5.0           2.3           3.3           1.0  2023-03-14 13:33:10\n",
       "7           4.9           3.1           1.5           0.1  2023-03-14 13:33:10\n",
       "8           4.8           3.0           1.4           0.3  2023-03-14 13:33:10\n",
       "9           4.5           2.3           1.3           0.3  2023-03-14 13:33:10"
      ]
     },
     "execution_count": 13,
     "metadata": {},
     "output_type": "execute_result"
    }
   ],
   "source": [
    "df.head()"
   ]
  },
  {
   "cell_type": "markdown",
   "id": "4b781a29-82d4-4100-bdb8-bf44833de240",
   "metadata": {},
   "source": [
    "## Score data with the logistic regression model"
   ]
  },
  {
   "cell_type": "code",
   "execution_count": 14,
   "id": "532c78a4-9870-451d-b065-659409f78c24",
   "metadata": {},
   "outputs": [
    {
     "data": {
      "text/html": [
       "<style type=\"text/css\">\n",
       "\ttable {border:ridge 5px;}\n",
       "\ttable td {border:inset 1px;}\n",
       "\ttable tr#HeaderRow {background-color:grey; color:white;}</style>\n",
       "<html><table>\n",
       "\t<tr id=\"HeaderRow\">\n",
       "\t\t<th>float_input_0</th>\n",
       "\t\t<th>float_input_1</th>\n",
       "\t\t<th>float_input_2</th>\n",
       "\t\t<th>float_input_3</th>\n",
       "\t\t<th>json_report</th>\n",
       "\t</tr>\n",
       "\t<tr>\n",
       "\t\t<td>7.000</td>\n",
       "\t\t<td>3.200</td>\n",
       "\t\t<td>4.700</td>\n",
       "\t\t<td>1.400</td>\n",
       "\t\t<td>{\"output_probability\":[{\"0\":0.0024769553,\"1\":0.85516924,\"2\":0.14235385}],\"output_label\":[1]}</td>\n",
       "\t</tr>\n",
       "\t<tr>\n",
       "\t\t<td>6.700</td>\n",
       "\t\t<td>3.300</td>\n",
       "\t\t<td>5.700</td>\n",
       "\t\t<td>2.500</td>\n",
       "\t\t<td>{\"output_probability\":[{\"0\":8.730148E-6,\"1\":0.018769793,\"2\":0.9812215}],\"output_label\":[2]}</td>\n",
       "\t</tr>\n",
       "\t<tr>\n",
       "\t\t<td>6.700</td>\n",
       "\t\t<td>3.000</td>\n",
       "\t\t<td>5.200</td>\n",
       "\t\t<td>2.300</td>\n",
       "\t\t<td>{\"output_probability\":[{\"0\":1.0419553E-4,\"1\":0.09560589,\"2\":0.9042899}],\"output_label\":[2]}</td>\n",
       "\t</tr>\n",
       "\t<tr>\n",
       "\t\t<td>6.700</td>\n",
       "\t\t<td>2.500</td>\n",
       "\t\t<td>5.800</td>\n",
       "\t\t<td>1.800</td>\n",
       "\t\t<td>{\"output_probability\":[{\"0\":1.2526436E-5,\"1\":0.06381021,\"2\":0.93617725}],\"output_label\":[2]}</td>\n",
       "\t</tr>\n",
       "\t<tr>\n",
       "\t\t<td>6.500</td>\n",
       "\t\t<td>2.800</td>\n",
       "\t\t<td>4.600</td>\n",
       "\t\t<td>1.500</td>\n",
       "\t\t<td>{\"output_probability\":[{\"0\":0.0033763452,\"1\":0.78528553,\"2\":0.21133809}],\"output_label\":[1]}</td>\n",
       "\t</tr>\n",
       "\t<tr>\n",
       "\t\t<td>6.500</td>\n",
       "\t\t<td>3.000</td>\n",
       "\t\t<td>5.200</td>\n",
       "\t\t<td>2.000</td>\n",
       "\t\t<td>{\"output_probability\":[{\"0\":2.3936074E-4,\"1\":0.17774457,\"2\":0.82201606}],\"output_label\":[2]}</td>\n",
       "\t</tr>\n",
       "\t<tr>\n",
       "\t\t<td>6.500</td>\n",
       "\t\t<td>3.000</td>\n",
       "\t\t<td>5.500</td>\n",
       "\t\t<td>1.800</td>\n",
       "\t\t<td>{\"output_probability\":[{\"0\":1.0249372E-4,\"1\":0.14601514,\"2\":0.8538824}],\"output_label\":[2]}</td>\n",
       "\t</tr>\n",
       "\t<tr>\n",
       "\t\t<td>6.900</td>\n",
       "\t\t<td>3.100</td>\n",
       "\t\t<td>5.400</td>\n",
       "\t\t<td>2.100</td>\n",
       "\t\t<td>{\"output_probability\":[{\"0\":7.0639755E-5,\"1\":0.11276507,\"2\":0.88716435}],\"output_label\":[2]}</td>\n",
       "\t</tr>\n",
       "\t<tr>\n",
       "\t\t<td>7.700</td>\n",
       "\t\t<td>3.800</td>\n",
       "\t\t<td>6.700</td>\n",
       "\t\t<td>2.200</td>\n",
       "\t\t<td>{\"output_probability\":[{\"0\":1.9986751E-7,\"1\":0.006974007,\"2\":0.9930258}],\"output_label\":[2]}</td>\n",
       "\t</tr>\n",
       "\t<tr>\n",
       "\t\t<td>7.700</td>\n",
       "\t\t<td>3.000</td>\n",
       "\t\t<td>6.100</td>\n",
       "\t\t<td>2.300</td>\n",
       "\t\t<td>{\"output_probability\":[{\"0\":9.3358443E-7,\"1\":0.017022539,\"2\":0.98297656}],\"output_label\":[2]}</td>\n",
       "\t</tr>\n",
       "</table></html>"
      ],
      "text/plain": [
       "   float_input_0  float_input_1  float_input_2  float_input_3                                                                                    json_report\n",
       "0            7.0            3.2            4.7            1.4   {\"output_probability\":[{\"0\":0.0024769553,\"1\":0.85516924,\"2\":0.14235385}],\"output_label\":[1]}\n",
       "1            6.7            3.3            5.7            2.5    {\"output_probability\":[{\"0\":8.730148E-6,\"1\":0.018769793,\"2\":0.9812215}],\"output_label\":[2]}\n",
       "2            6.7            3.0            5.2            2.3    {\"output_probability\":[{\"0\":1.0419553E-4,\"1\":0.09560589,\"2\":0.9042899}],\"output_label\":[2]}\n",
       "3            6.7            2.5            5.8            1.8   {\"output_probability\":[{\"0\":1.2526436E-5,\"1\":0.06381021,\"2\":0.93617725}],\"output_label\":[2]}\n",
       "4            6.5            2.8            4.6            1.5   {\"output_probability\":[{\"0\":0.0033763452,\"1\":0.78528553,\"2\":0.21133809}],\"output_label\":[1]}\n",
       "5            6.5            3.0            5.2            2.0   {\"output_probability\":[{\"0\":2.3936074E-4,\"1\":0.17774457,\"2\":0.82201606}],\"output_label\":[2]}\n",
       "6            6.5            3.0            5.5            1.8    {\"output_probability\":[{\"0\":1.0249372E-4,\"1\":0.14601514,\"2\":0.8538824}],\"output_label\":[2]}\n",
       "7            6.9            3.1            5.4            2.1   {\"output_probability\":[{\"0\":7.0639755E-5,\"1\":0.11276507,\"2\":0.88716435}],\"output_label\":[2]}\n",
       "8            7.7            3.8            6.7            2.2   {\"output_probability\":[{\"0\":1.9986751E-7,\"1\":0.006974007,\"2\":0.9930258}],\"output_label\":[2]}\n",
       "9            7.7            3.0            6.1            2.3  {\"output_probability\":[{\"0\":9.3358443E-7,\"1\":0.017022539,\"2\":0.98297656}],\"output_label\":[2]}"
      ]
     },
     "execution_count": 14,
     "metadata": {},
     "output_type": "execute_result"
    }
   ],
   "source": [
    "df = DataFrame.from_query(\" \\\n",
    "SELECT * FROM mldb.onnxpredict( \\\n",
    "ON ( \\\n",
    "  select \\\n",
    "  cast(float_input_0 as decimal(18,2)) as float_input_0, \\\n",
    "  cast(float_input_1 as decimal(18,2)) as float_input_1, \\\n",
    "  cast(float_input_2 as decimal(18,2)) as float_input_2, \\\n",
    "  cast(float_input_3 as decimal(18,2)) as float_input_3 \\\n",
    "  from STG_IRIS_EV \\\n",
    "  ) AS InputTable \\\n",
    "ON (SELECT * FROM scikit_models WHERE model_id = 'logreg_iris_v1')  AS ModelTable  DIMENSION \\\n",
    "  USING \\\n",
    "    Accumulate ('*') \\\n",
    ") as whatever\")\n",
    "df.tail()"
   ]
  },
  {
   "cell_type": "markdown",
   "id": "2a9cceb2-db51-4075-8984-4f00551ec64c",
   "metadata": {},
   "source": [
    "**...in real use-case you would need to store results in some table**"
   ]
  },
  {
   "cell_type": "raw",
   "id": "18033174-a31a-443e-875f-96e773a53b0b",
   "metadata": {},
   "source": [
    "insert into IRIS_SCORE\n",
    "SELECT a.* FROM mldb.onnxpredict( \n",
    "ON ( \n",
    "  select \n",
    "  cast(float_input_0 as decimal(18,2)) as float_input_0, \n",
    "  cast(float_input_1 as decimal(18,2)) as float_input_1, \n",
    "  cast(float_input_2 as decimal(18,2)) as float_input_2, \n",
    "  cast(float_input_3 as decimal(18,2)) as float_input_3 \n",
    "  from STG_IRIS_EV \n",
    "  ) AS InputTable \n",
    "ON (SELECT * FROM scikit_models WHERE model_id = 'logreg_iris_v1')  AS ModelTable  DIMENSION \n",
    "  USING \n",
    "    Accumulate ('*') \n",
    ") as a;"
   ]
  }
 ],
 "metadata": {
  "kernelspec": {
   "display_name": "Python 3 (ipykernel)",
   "language": "python",
   "name": "python3"
  },
  "language_info": {
   "codemirror_mode": {
    "name": "ipython",
    "version": 3
   },
   "file_extension": ".py",
   "mimetype": "text/x-python",
   "name": "python",
   "nbconvert_exporter": "python",
   "pygments_lexer": "ipython3",
   "version": "3.9.13"
  }
 },
 "nbformat": 4,
 "nbformat_minor": 5
}
