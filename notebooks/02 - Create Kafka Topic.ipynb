{
 "cells": [
  {
   "cell_type": "markdown",
   "id": "0d206097-5c15-44e0-9a60-ab07798486a2",
   "metadata": {},
   "source": [
    "# Create Kafka Topic"
   ]
  },
  {
   "cell_type": "markdown",
   "id": "88d08339-73a4-4288-ac4a-e0f086a0793c",
   "metadata": {},
   "source": [
    "## Create testing topic"
   ]
  },
  {
   "cell_type": "markdown",
   "id": "0b42a80f-50e7-44dc-969b-1c6cc727593d",
   "metadata": {},
   "source": [
    "* For internal (within docker containers) use kafka:9092\n",
    "* For external (outside from docker containers) use localhost:9093 "
   ]
  },
  {
   "cell_type": "code",
   "execution_count": 3,
   "id": "08fc18bb-959e-47cc-a3cf-8881a1013a82",
   "metadata": {},
   "outputs": [
    {
     "data": {
      "text/plain": [
       "{'iris_decisions_topic': <Future at 0x7ff2b410f4c0 state=running>}"
      ]
     },
     "execution_count": 3,
     "metadata": {},
     "output_type": "execute_result"
    }
   ],
   "source": [
    "from confluent_kafka.admin import AdminClient, NewTopic\n",
    "\n",
    "\n",
    "admin_client = AdminClient({\n",
    "    \"bootstrap.servers\": \"kafka:9092\"\n",
    "})\n",
    "\n",
    "topic_list = []\n",
    "topic_list.append(NewTopic(\"iris_topic\", 1, 1))\n",
    "admin_client.create_topics(topic_list)"
   ]
  },
  {
   "cell_type": "code",
   "execution_count": 6,
   "id": "2b998ae8-f54b-486b-a064-d95dee0da81b",
   "metadata": {},
   "outputs": [
    {
     "data": {
      "text/plain": [
       "{'iris_topic': <Future at 0x7ff2b41a2d90 state=running>}"
      ]
     },
     "execution_count": 6,
     "metadata": {},
     "output_type": "execute_result"
    }
   ],
   "source": [
    "from confluent_kafka.admin import AdminClient, NewTopic\n",
    "\n",
    "\n",
    "admin_client = AdminClient({\n",
    "    \"bootstrap.servers\": \"kafka:9092\"\n",
    "})\n",
    "\n",
    "topic_list = []\n",
    "topic_list.append(NewTopic(\"iris_topic\", 1, 1))\n",
    "#topic for Iris Decisions messages\n",
    "admin_client.create_topics(topic_list)"
   ]
  },
  {
   "cell_type": "markdown",
   "id": "e98be5fc-3c62-4bc1-b1df-7dc4ffea08cc",
   "metadata": {},
   "source": [
    "## Check whether topic was created"
   ]
  },
  {
   "cell_type": "code",
   "execution_count": 1,
   "id": "c21735d6-f930-4f2f-8f38-19ca8a680a24",
   "metadata": {
    "tags": []
   },
   "outputs": [
    {
     "name": "stdout",
     "output_type": "stream",
     "text": [
      "{'example_topic': TopicMetadata(example_topic, 1 partitions), 'iris_topic': TopicMetadata(iris_topic, 1 partitions), '__consumer_offsets': TopicMetadata(__consumer_offsets, 50 partitions), 'sensors_topic': TopicMetadata(sensors_topic, 1 partitions), 'csv_topic': TopicMetadata(csv_topic, 1 partitions), 'iris_decisions_topic': TopicMetadata(iris_decisions_topic, 1 partitions)}\n"
     ]
    }
   ],
   "source": [
    "from confluent_kafka.admin import AdminClient\n",
    "\n",
    "kafka_broker = {'bootstrap.servers': 'kafka:9092'}\n",
    "admin_client = AdminClient(kafka_broker)\n",
    "topics = admin_client.list_topics().topics\n",
    "\n",
    "if not topics: \n",
    "    raise RuntimeError()\n",
    "else:\n",
    "    print(topics)"
   ]
  }
 ],
 "metadata": {
  "kernelspec": {
   "display_name": "Python 3 (ipykernel)",
   "language": "python",
   "name": "python3"
  },
  "language_info": {
   "codemirror_mode": {
    "name": "ipython",
    "version": 3
   },
   "file_extension": ".py",
   "mimetype": "text/x-python",
   "name": "python",
   "nbconvert_exporter": "python",
   "pygments_lexer": "ipython3",
   "version": "3.9.13"
  }
 },
 "nbformat": 4,
 "nbformat_minor": 5
}
