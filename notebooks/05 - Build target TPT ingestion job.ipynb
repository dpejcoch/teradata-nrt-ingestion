{
 "cells": [
  {
   "cell_type": "markdown",
   "id": "02076d91-9e20-490f-ab62-7749d80b0f10",
   "metadata": {},
   "source": [
    "# TPT job for Iris ingestion"
   ]
  },
  {
   "cell_type": "markdown",
   "id": "337ff680-a3e3-4d48-a12a-342835ac7e06",
   "metadata": {},
   "source": [
    "## How to execute the job"
   ]
  },
  {
   "cell_type": "markdown",
   "id": "4ff4fb8a-acb7-4fb9-bdd6-3d3bcf6f00a5",
   "metadata": {},
   "source": [
    "1. Create tpt file as per template below\n",
    "2. Save it to jobs folder (attached as volume to stream_consumer container)\n",
    "3. Connect to the stream_consumer container using:\n",
    "    ```\n",
    "    docker exec -it <container id> /bin/bash\n",
    "    ```\n",
    "4. Go to /tmp/jobs folder\n",
    "5. Build the tpt job using the following command:\n",
    "    ```\n",
    "    tbuild -f CSV_continuous_Iris.tpt -C -l 1 -v vars.txt -j iris\n",
    "    ```"
   ]
  },
  {
   "cell_type": "markdown",
   "id": "37dc324c-cf3f-4483-a003-3b8f31316a9d",
   "metadata": {},
   "source": [
    "## TPT file"
   ]
  },
  {
   "cell_type": "raw",
   "id": "298d43da-c08b-4ba9-967f-83ac6d3c3eb3",
   "metadata": {},
   "source": [
    "DEFINE JOB IMPORT_TO_TERADATA\n",
    "Description 'Import data to Teradata from Kafka Server'\n",
    "(\n",
    "    \n",
    "    DEFINE SCHEMA MSG_SCHEMA\n",
    "    (\n",
    "      float_input_0 VARCHAR(50), \n",
    "      float_input_1 VARCHAR(50),\n",
    "      float_input_2 VARCHAR(50),\n",
    "      float_input_3 VARCHAR(50)\n",
    "    );\n",
    "    \n",
    "    DEFINE SCHEMA TD_SCHEMA\n",
    "    (\n",
    "      float_input_0 VARCHAR(50), \n",
    "      float_input_1 VARCHAR(50),\n",
    "      float_input_2 VARCHAR(50),\n",
    "      float_input_3 VARCHAR(50),\n",
    "      ACQ_DTTM TIMESTAMP(0)\n",
    "    );\n",
    "    \n",
    "    \n",
    "    DEFINE OPERATOR IMPORT_TO_TERADATA_STREAM\n",
    "    TYPE STREAM\n",
    "    SCHEMA TD_SCHEMA\n",
    "    ATTRIBUTES\n",
    "    (\n",
    "      VARCHAR TdPid=@TdPid,\n",
    "      VARCHAR UserName=@UserName,\n",
    "      VARCHAR UserPassWord=@UserPassWord,\n",
    "      VARCHAR TargetDatabase=@TargetDatabase,\n",
    "      VARCHAR TargetTable=@TargetTable,\n",
    "      VARCHAR LogonMech=@LogonMech,\n",
    "      VARCHAR UnicodePassThrough='On',\n",
    "      INTEGER MaxSessions=1,\n",
    "      VARCHAR PackMaximum='Yes',\n",
    "      VARCHAR Robust='N'\n",
    "    );\n",
    "    \n",
    "\n",
    "    DEFINE OPERATOR STG_IRIS_EV_SCHEMA_Detail\n",
    "    TYPE DATACONNECTOR PRODUCER\n",
    "    SCHEMA MSG_SCHEMA\n",
    "    ATTRIBUTES\n",
    "    (\n",
    "        VARCHAR TextDelimiter = ',',\n",
    "        VARCHAR QuotedData = 'No',\n",
    "        VARCHAR Format = 'Delimited',\n",
    "        VARCHAR NullColumns = 'Yes',\n",
    "        VARCHAR TrimColumns = 'Both',\n",
    "        VARCHAR TruncateColumns = 'No',\n",
    "        VARCHAR AccessModuleName = 'libkafkaaxsmod.so',\n",
    "        AcceptExcessColumns = 'Yes',\n",
    "        AcceptMissingColumns = 'Yes',\n",
    "        RecordErrorVerbosity = 'High',\n",
    "        RecordErrorfileName = '/tmp/err',\n",
    "        VARCHAR AccessModuleInitStr =  '-ADD_LINE_FEED N\n",
    "                                        -MODE C\n",
    "                                        -TOPIC iris_topic\n",
    "                                        -BROKERS kafka:9092 \n",
    "                                        -PARTITION 0 \n",
    "                    \t\t\t\t\t-BATCHMODE N\n",
    "                                        -CONFIG compression.codec=none\n",
    "                                        -CONFIG group.id=example_topic\n",
    "                                        -MSGLIMIT 4800\n",
    "                                        -RWAIT -1\n",
    "                                        '\n",
    "    );\n",
    "    \n",
    "    APPLY\n",
    "    (\n",
    "       'INSERT INTO david_demo.STG_IRIS_EV(\n",
    "\t\t\tfloat_input_0, \n",
    "      \t\tfloat_input_1,\n",
    "      \t\tfloat_input_2,\n",
    "      \t\tfloat_input_3,\n",
    "\t\t\tACQ_DTTM\n",
    "\t\t\t\n",
    "\t   ) VALUES (\n",
    "\t\t\t:float_input_0, \n",
    "      \t\t:float_input_1,\n",
    "      \t\t:float_input_2,\n",
    "      \t\t:float_input_3,\n",
    "\t\t\tCURRENT_TIMESTAMP(0)\n",
    "\t\t);'\n",
    "    )\n",
    "    TO OPERATOR(IMPORT_TO_TERADATA_STREAM [1])\n",
    "    SELECT * FROM OPERATOR (STG_IRIS_EV_SCHEMA_Detail [1]);\n",
    ");"
   ]
  }
 ],
 "metadata": {
  "kernelspec": {
   "display_name": "Python 3 (ipykernel)",
   "language": "python",
   "name": "python3"
  },
  "language_info": {
   "codemirror_mode": {
    "name": "ipython",
    "version": 3
   },
   "file_extension": ".py",
   "mimetype": "text/x-python",
   "name": "python",
   "nbconvert_exporter": "python",
   "pygments_lexer": "ipython3",
   "version": "3.9.13"
  }
 },
 "nbformat": 4,
 "nbformat_minor": 5
}
